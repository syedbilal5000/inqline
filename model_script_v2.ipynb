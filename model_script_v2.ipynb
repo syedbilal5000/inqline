{
 "cells": [
  {
   "cell_type": "code",
   "execution_count": 1,
   "metadata": {},
   "outputs": [],
   "source": [
    "# importing libraries\n",
    "import xgboost as xgb\n",
    "import numpy as np\n",
    "import pandas as pd\n",
    "import datetime\n",
    "from statsmodels.tsa.arima_model import ARIMA\n",
    "from sklearn.metrics import mean_squared_error\n",
    "import matplotlib.pyplot as plt\n",
    "import xgboost as xgb\n",
    "from sklearn.feature_selection import chi2, SelectKBest\n",
    "from sklearn.preprocessing import Imputer\n",
    "from sklearn.preprocessing import StandardScaler\n",
    "from sklearn.preprocessing import LabelEncoder\n",
    "from sklearn.linear_model import Lasso\n",
    "from sklearn.linear_model import LogisticRegression\n",
    "from sklearn.svm import SVC\n",
    "from sklearn.model_selection import train_test_split\n",
    "from sklearn.model_selection import cross_val_score\n",
    "from sklearn.preprocessing import MinMaxScaler\n",
    "from sklearn.ensemble import RandomForestClassifier\n",
    "from sklearn.feature_selection import SelectFromModel\n",
    "from sklearn.pipeline import Pipeline"
   ]
  },
  {
   "cell_type": "code",
   "execution_count": 2,
   "metadata": {},
   "outputs": [],
   "source": [
    "# Reading data\n",
    "train=pd.read_csv(\"D:/inqline/training.csv\")\n",
    "data=pd.read_csv(\"D:/inqline/hackathon_data_round2.csv\")"
   ]
  },
  {
   "cell_type": "code",
   "execution_count": 3,
   "metadata": {},
   "outputs": [
    {
     "name": "stderr",
     "output_type": "stream",
     "text": [
      "C:\\Users\\HP\\Anaconda3\\lib\\site-packages\\ipykernel_launcher.py:3: SettingWithCopyWarning: \n",
      "A value is trying to be set on a copy of a slice from a DataFrame\n",
      "\n",
      "See the caveats in the documentation: http://pandas.pydata.org/pandas-docs/stable/indexing.html#indexing-view-versus-copy\n",
      "  This is separate from the ipykernel package so we can avoid doing imports until\n",
      "C:\\Users\\HP\\Anaconda3\\lib\\site-packages\\ipykernel_launcher.py:4: SettingWithCopyWarning: \n",
      "A value is trying to be set on a copy of a slice from a DataFrame\n",
      "\n",
      "See the caveats in the documentation: http://pandas.pydata.org/pandas-docs/stable/indexing.html#indexing-view-versus-copy\n",
      "  after removing the cwd from sys.path.\n",
      "C:\\Users\\HP\\Anaconda3\\lib\\site-packages\\ipykernel_launcher.py:5: SettingWithCopyWarning: \n",
      "A value is trying to be set on a copy of a slice from a DataFrame\n",
      "\n",
      "See the caveats in the documentation: http://pandas.pydata.org/pandas-docs/stable/indexing.html#indexing-view-versus-copy\n",
      "  \"\"\"\n",
      "C:\\Users\\HP\\Anaconda3\\lib\\site-packages\\ipykernel_launcher.py:6: SettingWithCopyWarning: \n",
      "A value is trying to be set on a copy of a slice from a DataFrame\n",
      "\n",
      "See the caveats in the documentation: http://pandas.pydata.org/pandas-docs/stable/indexing.html#indexing-view-versus-copy\n",
      "  \n",
      "C:\\Users\\HP\\Anaconda3\\lib\\site-packages\\ipykernel_launcher.py:7: SettingWithCopyWarning: \n",
      "A value is trying to be set on a copy of a slice from a DataFrame\n",
      "\n",
      "See the caveats in the documentation: http://pandas.pydata.org/pandas-docs/stable/indexing.html#indexing-view-versus-copy\n",
      "  import sys\n",
      "C:\\Users\\HP\\Anaconda3\\lib\\site-packages\\ipykernel_launcher.py:10: SettingWithCopyWarning: \n",
      "A value is trying to be set on a copy of a slice from a DataFrame\n",
      "\n",
      "See the caveats in the documentation: http://pandas.pydata.org/pandas-docs/stable/indexing.html#indexing-view-versus-copy\n",
      "  # Remove the CWD from sys.path while we load stuff.\n",
      "C:\\Users\\HP\\Anaconda3\\lib\\site-packages\\ipykernel_launcher.py:11: SettingWithCopyWarning: \n",
      "A value is trying to be set on a copy of a slice from a DataFrame\n",
      "\n",
      "See the caveats in the documentation: http://pandas.pydata.org/pandas-docs/stable/indexing.html#indexing-view-versus-copy\n",
      "  # This is added back by InteractiveShellApp.init_path()\n",
      "C:\\Users\\HP\\Anaconda3\\lib\\site-packages\\ipykernel_launcher.py:12: SettingWithCopyWarning: \n",
      "A value is trying to be set on a copy of a slice from a DataFrame\n",
      "\n",
      "See the caveats in the documentation: http://pandas.pydata.org/pandas-docs/stable/indexing.html#indexing-view-versus-copy\n",
      "  if sys.path[0] == '':\n",
      "C:\\Users\\HP\\Anaconda3\\lib\\site-packages\\ipykernel_launcher.py:13: SettingWithCopyWarning: \n",
      "A value is trying to be set on a copy of a slice from a DataFrame\n",
      "\n",
      "See the caveats in the documentation: http://pandas.pydata.org/pandas-docs/stable/indexing.html#indexing-view-versus-copy\n",
      "  del sys.path[0]\n",
      "C:\\Users\\HP\\Anaconda3\\lib\\site-packages\\ipykernel_launcher.py:14: SettingWithCopyWarning: \n",
      "A value is trying to be set on a copy of a slice from a DataFrame\n",
      "\n",
      "See the caveats in the documentation: http://pandas.pydata.org/pandas-docs/stable/indexing.html#indexing-view-versus-copy\n",
      "  \n"
     ]
    },
    {
     "data": {
      "text/plain": [
       "(225498, 20)"
      ]
     },
     "execution_count": 3,
     "metadata": {},
     "output_type": "execute_result"
    }
   ],
   "source": [
    "# Filling null values\n",
    "\n",
    "train.Gender[train['Gender'].isnull()]=\"M\"\n",
    "train.Donor_Blood_Pressure[train['Donor_Blood_Pressure'].isnull()]=\"120/80\"\n",
    "train.Test_3[train['Test_3'].isnull()]=\"P\"\n",
    "train.Test_3[train['Test_3']==\"R\"]=\"P\"\n",
    "train.Test_4[train['Test_4'].isnull()]=\"P\"\n",
    "train.shape\n",
    "\n",
    "data.Gender[data['Gender'].isnull()]=\"M\"\n",
    "data.Donor_Blood_Pressure[data['Donor_Blood_Pressure'].isnull()]=\"120/80\"\n",
    "data.Test_3[data['Test_3'].isnull()]=\"P\"\n",
    "data.Test_3[data['Test_3']==\"R\"]=\"P\"\n",
    "data.Test_4[data['Test_4'].isnull()]=\"P\"\n",
    "data.shape"
   ]
  },
  {
   "cell_type": "code",
   "execution_count": 4,
   "metadata": {},
   "outputs": [],
   "source": [
    "# Approach for selection of features\n",
    "\n",
    "# sel = SelectFromModel(RandomForestClassifier(n_estimators = 100))\n",
    "# sel.fit(X_train, y_train)\n",
    "# sel.get_support()\n",
    "\n",
    "col=[0,3,4,6,7,10,15,16] # selected features"
   ]
  },
  {
   "cell_type": "code",
   "execution_count": 5,
   "metadata": {},
   "outputs": [],
   "source": [
    "X_train=train.iloc[:, col]\n",
    "y_train=train[\"Y\"]\n",
    "X=data.iloc[:, col]"
   ]
  },
  {
   "cell_type": "code",
   "execution_count": 6,
   "metadata": {},
   "outputs": [
    {
     "name": "stderr",
     "output_type": "stream",
     "text": [
      "C:\\Users\\HP\\Anaconda3\\lib\\site-packages\\pandas\\core\\indexing.py:543: SettingWithCopyWarning: \n",
      "A value is trying to be set on a copy of a slice from a DataFrame.\n",
      "Try using .loc[row_indexer,col_indexer] = value instead\n",
      "\n",
      "See the caveats in the documentation: http://pandas.pydata.org/pandas-docs/stable/indexing.html#indexing-view-versus-copy\n",
      "  self.obj[item] = s\n"
     ]
    }
   ],
   "source": [
    "labelencoder = LabelEncoder()\n",
    "X_train.iloc[:, 4] = labelencoder.fit_transform(X_train.iloc[:, 4])\n",
    "# X.iloc[:, 4] = labelencoder.fit_transform(X.iloc[:, 4])\n",
    "# X.to_csv(\"c.csv\")"
   ]
  },
  {
   "cell_type": "code",
   "execution_count": 7,
   "metadata": {},
   "outputs": [
    {
     "name": "stderr",
     "output_type": "stream",
     "text": [
      "C:\\Users\\HP\\Anaconda3\\lib\\site-packages\\sklearn\\utils\\deprecation.py:58: DeprecationWarning: Class Imputer is deprecated; Imputer was deprecated in version 0.20 and will be removed in 0.22. Import impute.SimpleImputer from sklearn instead.\n",
      "  warnings.warn(msg, category=DeprecationWarning)\n"
     ]
    }
   ],
   "source": [
    "# Imputation, because of too large values\n",
    "imp = Imputer()\n",
    "imp.fit(X_train)\n",
    "X_train = imp.transform(X_train)"
   ]
  },
  {
   "cell_type": "code",
   "execution_count": 8,
   "metadata": {},
   "outputs": [],
   "source": [
    "# Pipeline for Algorithm\n",
    "pipeline = Pipeline([\n",
    "        (\"st_scaler\",StandardScaler()),\n",
    "#        (\"scaler\", MinMaxScaler()),\n",
    "                             (\"logistic_model\",LogisticRegression())])"
   ]
  },
  {
   "cell_type": "code",
   "execution_count": 9,
   "metadata": {},
   "outputs": [],
   "source": [
    "#pipeline.fit(X_train, y_train)\n",
    "#y_pred = pipeline.predict(X_test)\n",
    "#pipeline.score(X_test, y_test)"
   ]
  },
  {
   "cell_type": "code",
   "execution_count": 10,
   "metadata": {},
   "outputs": [
    {
     "name": "stderr",
     "output_type": "stream",
     "text": [
      "C:\\Users\\HP\\Anaconda3\\lib\\site-packages\\sklearn\\linear_model\\logistic.py:433: FutureWarning: Default solver will be changed to 'lbfgs' in 0.22. Specify a solver to silence this warning.\n",
      "  FutureWarning)\n",
      "C:\\Users\\HP\\Anaconda3\\lib\\site-packages\\sklearn\\linear_model\\logistic.py:433: FutureWarning: Default solver will be changed to 'lbfgs' in 0.22. Specify a solver to silence this warning.\n",
      "  FutureWarning)\n",
      "C:\\Users\\HP\\Anaconda3\\lib\\site-packages\\sklearn\\linear_model\\logistic.py:433: FutureWarning: Default solver will be changed to 'lbfgs' in 0.22. Specify a solver to silence this warning.\n",
      "  FutureWarning)\n",
      "C:\\Users\\HP\\Anaconda3\\lib\\site-packages\\sklearn\\linear_model\\logistic.py:433: FutureWarning: Default solver will be changed to 'lbfgs' in 0.22. Specify a solver to silence this warning.\n",
      "  FutureWarning)\n",
      "C:\\Users\\HP\\Anaconda3\\lib\\site-packages\\sklearn\\linear_model\\logistic.py:433: FutureWarning: Default solver will be changed to 'lbfgs' in 0.22. Specify a solver to silence this warning.\n",
      "  FutureWarning)\n"
     ]
    },
    {
     "name": "stdout",
     "output_type": "stream",
     "text": [
      "0.9826305143037309\n"
     ]
    }
   ],
   "source": [
    "print(np.mean(cross_val_score(pipeline, X_train, y_train, cv=5)))"
   ]
  },
  {
   "cell_type": "code",
   "execution_count": 11,
   "metadata": {},
   "outputs": [
    {
     "data": {
      "image/png": "[encoded data removed]",
      "text/plain": [
       "<Figure size 432x288 with 1 Axes>"
      ]
     },
     "metadata": {
      "needs_background": "light"
     },
     "output_type": "display_data"
    }
   ],
   "source": [
    "# Converting string to Datetime\n",
    "data['Donation_Date'] = pd.to_datetime(data['Donation_Date'])\n",
    "\n",
    "# Condition for good donor\n",
    "forecast=(data.C1!=\"N\") & (data.C2!=\"N\") & (data.Test_3!=\"N\") & (data.Test_4!=\"N\")\n",
    "\n",
    "year_2013=data.Donation_Date[(data['Donation_Date'] > \"30-JUN-13\") & \n",
    "                             (data['Donation_Date'] <= \"30-JUN-14\") & forecast]\n",
    "\n",
    "year_2014=data.Donation_Date[(data['Donation_Date'] > \"30-JUN-14\") & \n",
    "                             (data['Donation_Date'] <= \"30-JUN-15\") & forecast]\n",
    "\n",
    "year_2015=data.Donation_Date[(data['Donation_Date'] > \"30-JUN-15\") & \n",
    "                             (data['Donation_Date'] <= \"30-JUN-16\") & forecast]\n",
    "\n",
    "year_2016=data.Donation_Date[(data['Donation_Date'] > \"30-JUN-16\") & \n",
    "                             (data['Donation_Date'] <= \"30-JUN-17\") & forecast]\n",
    "\n",
    "year_2017=data.Donation_Date[(data['Donation_Date'] > \"30-JUN-17\") & \n",
    "                             (data['Donation_Date'] <= \"30-JUN-18\") & forecast]\n",
    "\n",
    "x=[\"Year-2013\", \"Year-2014\", \"Year-2015\", \"Year-2016\", \"Year-2017\"]\n",
    "y=[year_2013.count(), year_2014.count(), year_2015.count(), year_2016.count(), year_2017.count()]\n",
    "\n",
    "plt.bar(x,y,align='center') # A bar chart\n",
    "plt.title('Good Donors in a Financial Year')\n",
    "plt.xlabel('Years')\n",
    "plt.ylabel('Number of Donors - Frequency')\n",
    "\n",
    "for i in range(len(y)):\n",
    "    plt.hlines(y[i],0,x[i]) # Here you are drawing the horizontal lines\n",
    "plt.show()\n"
   ]
  },
  {
   "cell_type": "code",
   "execution_count": 12,
   "metadata": {},
   "outputs": [],
   "source": [
    "data=pd.read_csv(\"D:/inqline/hackathon_data_round2.csv\")\n",
    "# Dropping null value data by Donor_Age\n",
    "data = data.dropna(axis=0, subset=['Donor_Age'])\n",
    "# Converting to_datetime\n",
    "data['Donation_Date'] = pd.to_datetime(data['Donation_Date'])\n",
    "forecast=(data.C1!=\"N\") & (data.C2!=\"N\") & (data.Test_3!=\"N\") & (data.Test_4!=\"N\")\n",
    "\n",
    "X = (data.Donor_Age[forecast]).values"
   ]
  },
  {
   "cell_type": "code",
   "execution_count": 13,
   "metadata": {},
   "outputs": [
    {
     "name": "stderr",
     "output_type": "stream",
     "text": [
      "C:\\Users\\HP\\Anaconda3\\lib\\site-packages\\statsmodels\\tsa\\base\\tsa_model.py:221: ValueWarning: An unsupported index was provided and will be ignored when e.g. forecasting.\n",
      "  ' ignored when e.g. forecasting.', ValueWarning)\n",
      "C:\\Users\\HP\\Anaconda3\\lib\\site-packages\\statsmodels\\tsa\\base\\tsa_model.py:221: ValueWarning: An unsupported index was provided and will be ignored when e.g. forecasting.\n",
      "  ' ignored when e.g. forecasting.', ValueWarning)\n",
      "C:\\Users\\HP\\Anaconda3\\lib\\site-packages\\scipy\\signal\\signaltools.py:1341: FutureWarning: Using a non-tuple sequence for multidimensional indexing is deprecated; use `arr[tuple(seq)]` instead of `arr[seq]`. In the future this will be interpreted as an array index, `arr[np.array(seq)]`, which will result either in an error or a different result.\n",
      "  out_full[ind] += zi\n",
      "C:\\Users\\HP\\Anaconda3\\lib\\site-packages\\scipy\\signal\\signaltools.py:1344: FutureWarning: Using a non-tuple sequence for multidimensional indexing is deprecated; use `arr[tuple(seq)]` instead of `arr[seq]`. In the future this will be interpreted as an array index, `arr[np.array(seq)]`, which will result either in an error or a different result.\n",
      "  out = out_full[ind]\n",
      "C:\\Users\\HP\\Anaconda3\\lib\\site-packages\\scipy\\signal\\signaltools.py:1350: FutureWarning: Using a non-tuple sequence for multidimensional indexing is deprecated; use `arr[tuple(seq)]` instead of `arr[seq]`. In the future this will be interpreted as an array index, `arr[np.array(seq)]`, which will result either in an error or a different result.\n",
      "  zf = out_full[ind]\n"
     ]
    },
    {
     "name": "stdout",
     "output_type": "stream",
     "text": [
      "                             ARIMA Model Results                              \n",
      "==============================================================================\n",
      "Dep. Variable:            D.Donor_Age   No. Observations:                  469\n",
      "Model:                 ARIMA(5, 1, 0)   Log Likelihood               -1875.392\n",
      "Method:                       css-mle   S.D. of innovations             13.180\n",
      "Date:                Sun, 21 Apr 2019   AIC                           3764.783\n",
      "Time:                        11:52:16   BIC                           3793.838\n",
      "Sample:                             1   HQIC                          3776.215\n",
      "                                                                              \n",
      "=====================================================================================\n",
      "                        coef    std err          z      P>|z|      [0.025      0.975]\n",
      "-------------------------------------------------------------------------------------\n",
      "const                 0.0004      0.177      0.002      0.998      -0.347       0.348\n",
      "ar.L1.D.Donor_Age    -0.7994      0.045    -17.608      0.000      -0.888      -0.710\n",
      "ar.L2.D.Donor_Age    -0.6278      0.056    -11.115      0.000      -0.739      -0.517\n",
      "ar.L3.D.Donor_Age    -0.5019      0.059     -8.502      0.000      -0.618      -0.386\n",
      "ar.L4.D.Donor_Age    -0.3325      0.056     -5.903      0.000      -0.443      -0.222\n",
      "ar.L5.D.Donor_Age    -0.1822      0.045     -4.025      0.000      -0.271      -0.093\n",
      "                                    Roots                                    \n",
      "=============================================================================\n",
      "                  Real          Imaginary           Modulus         Frequency\n",
      "-----------------------------------------------------------------------------\n",
      "AR.1            0.5716           -1.2180j            1.3455           -0.1802\n",
      "AR.2            0.5716           +1.2180j            1.3455            0.1802\n",
      "AR.3           -1.4169           -0.0000j            1.4169           -0.5000\n",
      "AR.4           -0.7759           -1.2402j            1.4629           -0.3390\n",
      "AR.5           -0.7759           +1.2402j            1.4629            0.3390\n",
      "-----------------------------------------------------------------------------\n"
     ]
    }
   ],
   "source": [
    "# Summary of ARIMA Model\n",
    "model = ARIMA(data.Donor_Age[forecast], order=(5,1,0))\n",
    "model_fit = model.fit(disp=0)\n",
    "print(model_fit.summary())"
   ]
  },
  {
   "cell_type": "code",
   "execution_count": 14,
   "metadata": {},
   "outputs": [
    {
     "data": {
      "image/png": "[encoded data removed]",
      "text/plain": [
       "<Figure size 432x288 with 1 Axes>"
      ]
     },
     "metadata": {
      "needs_background": "light"
     },
     "output_type": "display_data"
    },
    {
     "data": {
      "image/png": "[encoded data removed]",
      "text/plain": [
       "<Figure size 432x288 with 1 Axes>"
      ]
     },
     "metadata": {
      "needs_background": "light"
     },
     "output_type": "display_data"
    },
    {
     "name": "stdout",
     "output_type": "stream",
     "text": [
      "                0\n",
      "count  469.000000\n",
      "mean     0.033959\n",
      "std     13.198426\n",
      "min    -43.983988\n",
      "25%     -5.821185\n",
      "50%     -1.407326\n",
      "75%      4.434126\n",
      "max    215.172730\n"
     ]
    }
   ],
   "source": [
    "# Residuals\n",
    "residuals = pd.DataFrame(model_fit.resid)\n",
    "residuals.plot()\n",
    "plt.show()\n",
    "residuals.plot(kind='kde')\n",
    "plt.show()\n",
    "print(residuals.describe())"
   ]
  },
  {
   "cell_type": "code",
   "execution_count": 15,
   "metadata": {},
   "outputs": [
    {
     "name": "stdout",
     "output_type": "stream",
     "text": [
      "predicted=30.442235, expected=25.000000 ...\n",
      "Test MSE: 54.584\n"
     ]
    }
   ],
   "source": [
    "size = int(len(X) * 0.70)\n",
    "train, test = X[0:size], X[size:len(X)]\n",
    "history = [x for x in train]\n",
    "predictions = list()\n",
    "for t in range(len(test)):\n",
    "    model = ARIMA(history, order=(5,1,0))\n",
    "    model_fit = model.fit(disp=0)\n",
    "    output = model_fit.forecast()\n",
    "    yhat = output[0]\n",
    "    predictions.append(yhat)\n",
    "    obs = test[t]\n",
    "    history.append(obs)\n",
    "#     print('predicted=%f, expected=%f' % (yhat, obs))\n",
    "print('predicted=%f, expected=%f ...' % (yhat, obs))\n",
    "error = mean_squared_error(test, predictions)\n",
    "print('Test MSE (Donor_Age): %.3f' % error)\n"
   ]
  },
  {
   "cell_type": "code",
   "execution_count": 41,
   "metadata": {},
   "outputs": [
    {
     "data": {
      "image/png": "[encoded data removed]",
      "text/plain": [
       "<Figure size 432x288 with 1 Axes>"
      ]
     },
     "metadata": {
      "needs_background": "light"
     },
     "output_type": "display_data"
    }
   ],
   "source": [
    "# Plot Forecasting by Donor_Age\n",
    "plt.title(\"Donor_Age\")\n",
    "plt.plot(test)\n",
    "plt.plot(predictions, color='red')\n",
    "plt.show()"
   ]
  },
  {
   "cell_type": "code",
   "execution_count": 31,
   "metadata": {},
   "outputs": [],
   "source": [
    "data=pd.read_csv(\"D:/inqline/hackathon_data_round2.csv\")\n",
    "data['Donation_Date'] = pd.to_datetime(data['Donation_Date'])\n",
    "forecast=(data.C1!=\"N\") & (data.C2!=\"N\") & (data.Test_3!=\"N\") & (data.Test_4!=\"N\")"
   ]
  },
  {
   "cell_type": "code",
   "execution_count": 35,
   "metadata": {},
   "outputs": [],
   "source": [
    "# Dropping null value data by Donor_Age\n",
    "data = data.dropna(axis=0, subset=['Branch_Code'])\n",
    "labelencoder = LabelEncoder()\n",
    "X = data.Branch_Code[forecast]\n",
    "X = labelencoder.fit_transform(X)"
   ]
  },
  {
   "cell_type": "code",
   "execution_count": null,
   "metadata": {},
   "outputs": [],
   "source": []
  },
  {
   "cell_type": "code",
   "execution_count": 36,
   "metadata": {},
   "outputs": [
    {
     "name": "stdout",
     "output_type": "stream",
     "text": [
      "                             ARIMA Model Results                              \n",
      "==============================================================================\n",
      "Dep. Variable:                    D.y   No. Observations:                  642\n",
      "Model:                 ARIMA(5, 1, 0)   Log Likelihood                 -52.788\n",
      "Method:                       css-mle   S.D. of innovations              0.263\n",
      "Date:                Sun, 21 Apr 2019   AIC                            119.576\n",
      "Time:                        12:14:45   BIC                            150.828\n",
      "Sample:                             1   HQIC                           131.705\n",
      "                                                                              \n",
      "==============================================================================\n",
      "                 coef    std err          z      P>|z|      [0.025      0.975]\n",
      "------------------------------------------------------------------------------\n",
      "const          0.0048      0.007      0.677      0.499      -0.009       0.019\n",
      "ar.L1.D.y     -0.3828      0.040     -9.671      0.000      -0.460      -0.305\n",
      "ar.L2.D.y     -0.1180      0.045     -2.637      0.009      -0.206      -0.030\n",
      "ar.L3.D.y      0.1250      0.045      2.773      0.006       0.037       0.213\n",
      "ar.L4.D.y      0.0153      0.045      0.340      0.734      -0.073       0.103\n",
      "ar.L5.D.y     -0.0929      0.041     -2.246      0.025      -0.174      -0.012\n",
      "                                    Roots                                    \n",
      "=============================================================================\n",
      "                  Real          Imaginary           Modulus         Frequency\n",
      "-----------------------------------------------------------------------------\n",
      "AR.1           -0.6098           -1.2265j            1.3697           -0.3234\n",
      "AR.2           -0.6098           +1.2265j            1.3697            0.3234\n",
      "AR.3           -1.6506           -0.0000j            1.6506           -0.5000\n",
      "AR.4            1.5173           -1.0832j            1.8642           -0.0987\n",
      "AR.5            1.5173           +1.0832j            1.8642            0.0987\n",
      "-----------------------------------------------------------------------------\n"
     ]
    }
   ],
   "source": [
    "# Summary of ARIMA Model (Branch_Code)\n",
    "model2 = ARIMA(X, order=(5,1,0))\n",
    "model_fit2 = model2.fit(disp=0)\n",
    "print(model_fit2.summary())"
   ]
  },
  {
   "cell_type": "code",
   "execution_count": 42,
   "metadata": {},
   "outputs": [
    {
     "data": {
      "image/png": "[encoded data removed]",
      "text/plain": [
       "<Figure size 432x288 with 1 Axes>"
      ]
     },
     "metadata": {
      "needs_background": "light"
     },
     "output_type": "display_data"
    },
    {
     "data": {
      "image/png": "[encoded data removed]",
      "text/plain": [
       "<Figure size 432x288 with 1 Axes>"
      ]
     },
     "metadata": {
      "needs_background": "light"
     },
     "output_type": "display_data"
    },
    {
     "name": "stdout",
     "output_type": "stream",
     "text": [
      "                0\n",
      "count  642.000000\n",
      "mean    -0.000005\n",
      "std      0.262853\n",
      "min     -2.007022\n",
      "25%     -0.007022\n",
      "50%     -0.007022\n",
      "75%     -0.007022\n",
      "max      1.992978\n"
     ]
    }
   ],
   "source": [
    "# Residuals (Branch_Code)\n",
    "residuals = pd.DataFrame(model_fit2.resid)\n",
    "residuals.plot()\n",
    "plt.title(\"Branch_Code\")\n",
    "plt.show()\n",
    "residuals.plot(kind='kde')\n",
    "plt.show()\n",
    "print(residuals.describe())"
   ]
  },
  {
   "cell_type": "code",
   "execution_count": null,
   "metadata": {},
   "outputs": [],
   "source": []
  }
 ],
 "metadata": {
  "kernelspec": {
   "display_name": "Python 3",
   "language": "python",
   "name": "python3"
  },
  "language_info": {
   "codemirror_mode": {
    "name": "ipython",
    "version": 3
   },
   "file_extension": ".py",
   "mimetype": "text/x-python",
   "name": "python",
   "nbconvert_exporter": "python",
   "pygments_lexer": "ipython3",
   "version": "3.7.1"
  }
 },
 "nbformat": 4,
 "nbformat_minor": 2
}
